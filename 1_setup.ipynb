{
 "cells": [
  {
   "cell_type": "markdown",
   "metadata": {},
   "source": [
    "# CCPBioSim Training Course: Longbow"
   ]
  },
  {
   "cell_type": "markdown",
   "metadata": {},
   "source": [
    "[Longbow](http://www.hecbiosim.ac.uk/longbow) is an automated simulation submission tool focused on automating the submission of simulations to High Performance Computing (HPC) facilities. Once configured, Longbow will enable you to quickly submit huge numbers of simulations without having to write any job configuration files or transfer any of your files by yourself. This can be really great if you are working at large scale, or across many different HPC facilities.\n",
    "\n",
    "If you need the Longbow documentation at any stage it is [here](https://longbow.readthedocs.io/en/stable/).\n",
    "\n",
    "For this workshop I will be assuming that your are familiar with the Linux operating system (although command-lines will be demonstrated) and Jupyter notebooks. You will notice that when you opened this notebook, that it opened in a new tab in your browser. Please leave open the tab titled \"longbow-workshop\" as you will need this later.\n",
    "\n",
    "Before we can begin learning about the awesome-ness of Longbow there are a few steps that we need to complete beforehand. We will walk you through getting set up in the following steps."
   ]
  },
  {
   "cell_type": "markdown",
   "metadata": {},
   "source": [
    "## Getting Access to your ARCHER account"
   ]
  },
  {
   "cell_type": "markdown",
   "metadata": {},
   "source": [
    "The first thing we need to do is get basic SSH access to the ARCHER login nodes. Prior to attending this workshop you should have been asked to set up access to the ARCHER safe system, and then register a user account against our project code. If you have done this then you can now progress with getting access to the login nodes.\n",
    "\n",
    "First, in your web browser. Navigate to https://www.archer.ac.uk/safe\n",
    "\n",
    "It should look something like this.\n",
    "\n",
    "<img src=\"files/images/archersafe.png\">\n",
    "\n",
    "Type in your credentials that you registered for your SAFE account and log in. Once you log in, on the top menu go to \"Login accounts\" and select the username that you registered for this workshop. It should take you to a page that looks like this\n",
    "\n",
    "<img src=\"files/images/archeruser.png\">\n",
    "\n",
    "Now click the \"View Login Account Password\" button to display your password. This is the password to log in to the ARCHER login nodes.\n",
    "\n",
    "The next step is to log in to the ARCHER log in node and change your password. To do this you will need to open a Jupyter terminal, so go back to the Jupyter tab labelled \"longbow-workshop\" in your browser and click the \"new\" button on the right hand side and select \"Terminal\".\n",
    "\n",
    "<img src=\"files/images/openterminal.png\">\n",
    "\n",
    "This should open up a Jupyter terminal that looks like this\n",
    "\n",
    "<img src=\"files/images/terminal.png\">\n",
    "\n",
    "This is a full Linux bash terminal hosted in the cloud. We will be running all our Linux commands in this terminal for the rest of the workshop. You can simply keep switching between tabs in your browser to read these instructions and use the terminal. Please don't close these tabs until the end.\n",
    "\n",
    "In the terminal, you should now type in the following. This will connect to ARCHER using a utility called SSH.\n",
    "\n",
    "```\n",
    "ssh username@login.archer.ac.uk\n",
    "```\n",
    "\n",
    "Where \"username\" should be changed to the name of the user account that your requested via your SAFE account. Then hit enter. You will then be prompted to enter your password, this is the password you retrieved via SAFE in the previous step. \n",
    "\n",
    "Enter your password, you will then be prompted to change it. Change it to something memorable and write it down for the next step. You should now have access to the ARCHER login node and see the ARCHER message of the day.\n",
    "\n",
    "You should now exit the SSH connection to ARCHER by typing.\n",
    "\n",
    "```\n",
    "exit\n",
    "```\n",
    "\n",
    "You are now ready to move on to the next stage."
   ]
  },
  {
   "cell_type": "markdown",
   "metadata": {},
   "source": [
    "## Configuring Password-less Access to ARCHER"
   ]
  },
  {
   "cell_type": "markdown",
   "metadata": {},
   "source": [
    "Now that you are able to access your ARCHER account. It is important to configure password-less SSH access, Longbow will perform many operations in one session, so if we didn't have password-less access set up then you'd be asked over and over again for your password.\n",
    "\n",
    "So to configure password-less access, we will first need to switch to your terminal tab. Then we will need to generate a set of keys so we can authenticate using keyfiles, you will be asked a series of questions, but for this workshop please just leave them all blank and hit enter.\n",
    "\n",
    "```\n",
    "ssh-keygen\n",
    "```\n",
    "\n",
    "It should look something like the below image.\n",
    "\n",
    "<img src=\"files/images/sshkeygen.png\">\n",
    "\n",
    "This will have generated two files, an 'id_rsa' private key and an 'id_rsa.pub' public key. We will then copy the public key over to ARCHER using the ssh copy id utility.\n",
    "\n",
    "```\n",
    "ssh-copy-id username@login.archer.ac.uk\n",
    "```\n",
    "\n",
    "Where you will change 'username' for the one that you set up on ARCHER. You should then verify that you can access ARCHER and not be prompted for a password.\n",
    "\n",
    "```\n",
    "ssh username@login.archer.ac.uk\n",
    "```\n",
    "\n",
    "If this works then that is it!"
   ]
  },
  {
   "cell_type": "markdown",
   "metadata": {},
   "source": [
    "## Configuring Longbow"
   ]
  },
  {
   "cell_type": "markdown",
   "metadata": {},
   "source": [
    "Hopefully by now you will have full access to ARCHER without having to type in your password. The next step is to configure Longbow to use your new ARCHER account. To do this, you will need to switch to your terminal and edit the Longbow configuration file.\n",
    "\n",
    "To edit files, we have a command-line editor installed called nano. To edit the Longbow configuration file type.\n",
    "\n",
    "```\n",
    "nano ~/.longbow/hosts.conf\n",
    "```\n",
    "\n",
    "You can delete all of the information in the file and then add the following\n",
    "\n",
    "```\n",
    "[Archer]\n",
    "host = login.archer.ac.uk\n",
    "user = username\n",
    "remoteworkdir = /work/e280/e280/username\n",
    "corespernode = 24\n",
    "account = e280-workshop\n",
    "queue = R6190291\n",
    "polling-frequency = 60\n",
    "staging-frequency = 60\n",
    "```\n",
    "\n",
    "You will have to replace the two occurences of \"username\" with your ARCHER user name from the previous steps. Once you have done editing, you can exit nano and save by doing \"ctrl+x\" then \"y\" then \"enter\". \n",
    "\n",
    "A detailed explanation of the parameters used here can be found in the Longbow documentation but these mean:\n",
    "\n",
    "[ARCHER] - the name given to the machine, you can have many machines setup in the config file each starting like this.\n",
    "\n",
    "host - is the physical address of the machine login node, either ip or domain.\n",
    "\n",
    "user - your username on the machine.\n",
    "\n",
    "remoteworkdir - this is the path in which all of your files will be staged. On ARCHER each user has a /work directory.\n",
    "\n",
    "corespernode - setting this helps longbow understand the hardware, on ARCHER there are 24 physical processor cores per node.\n",
    "\n",
    "account - ARCHER does accounting, so we need to supply the workshop account code to run jobs. You would supply your project code if doing this later on a real project.\n",
    "\n",
    "queue - Normally this is not supplied unless there is a special queue you wish to run on. In the case of this workshop, we have a reservation, and thus we have a special queue to access it.\n",
    "\n",
    "polling-frequency - tells longbow how often in seconds we should check our simulation progress, you don't want to set this too low otherwise ARCHER will ban you.\n",
    "\n",
    "staging-frequency - tells longbow how often to sync your simulation files back to your computer.\n"
   ]
  }
 ],
 "metadata": {
  "kernelspec": {
   "display_name": "Python 3",
   "language": "python",
   "name": "python3"
  },
  "language_info": {
   "codemirror_mode": {
    "name": "ipython",
    "version": 3
   },
   "file_extension": ".py",
   "mimetype": "text/x-python",
   "name": "python",
   "nbconvert_exporter": "python",
   "pygments_lexer": "ipython3",
   "version": "3.6.7"
  }
 },
 "nbformat": 4,
 "nbformat_minor": 2
}
