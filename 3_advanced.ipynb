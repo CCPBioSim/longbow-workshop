{
 "cells": [
  {
   "cell_type": "markdown",
   "metadata": {},
   "source": [
    "# CCPBioSim Training Course: Longbow"
   ]
  },
  {
   "cell_type": "markdown",
   "metadata": {},
   "source": [
    "**Author**: James Gebbie-Rayet - [@jimboid](https://github.com/jimboid)\n",
    "\n",
    "So now you have learned to use Longbow to submit simulations in various ways. One of the questions/issues that you are probably thinking by now is \"this is great, but, what if I want to submit my simulations and not have to leave my computer on?\". \n",
    "\n",
    "Don't worry, we've got this sorted too.\n",
    "\n",
    "The next sections will describe what to do and how to use the disconnectable sessions."
   ]
  },
  {
   "cell_type": "markdown",
   "metadata": {},
   "source": [
    "## Launching Simulations Without Staying Connected"
   ]
  },
  {
   "cell_type": "markdown",
   "metadata": {},
   "source": [
    "Firstly you will need to change into the directory containing an example gromacs simulation. So in your shell tab type:\n",
    "\n",
    "```\n",
    "cd ~/longbow-workshop/data/disconnect\n",
    "```\n",
    "\n",
    "This directory contains a single GROMACS example job to demonstrate the concept of disconnecting from your Longbow session.\n",
    "\n",
    "Next we will need to launch your simulation with Longbow and enabling disconnect mode. So type in the following into the terminal tab:\n",
    "\n",
    "```\n",
    "longbow --verbose --disconnect mdrun_mpi -deffnm example\n",
    "```\n",
    "\n",
    "You will notice Longbow does the usual tests and transfers your files and then exits. Your simulations are still running!"
   ]
  },
  {
   "cell_type": "markdown",
   "metadata": {},
   "source": [
    "## Updating Current Progress"
   ]
  },
  {
   "cell_type": "markdown",
   "metadata": {},
   "source": [
    "If you would like to get a quick update and a snapshot of the files in their current state then you can run a Longbow update. To do this, if you look either in the Longbow logfile or in the verbose output in your terminal, you will see the name of your recovery file printed out. Copy the name of this file and use it like this:\n",
    "\n",
    "```\n",
    "longbow --update recoverfilename\n",
    "```\n",
    "\n",
    "Longbow will then reconnect, detect your jobs and transfer the statuses and any new file output to your local disk and then exit again. If the simulations are all finished, then it will also trigger the finalisation step and cleanup so you would not need to update again beyond that point.\n",
    "\n",
    "This functionality is quite handy when running long, or many simulations so that you can grab a daily update or to check the progress of simulations for the first hour or so before leaving them over a long period of time.\n",
    "\n",
    "Also on ARCHER there is a 16 simulation cap, this means that you can only have 16 simulations in the queue at any one time. Longbow will let you submit unlimited amounts of simulations but will batch these into the first 16 and withold the rest. By running an update, any simulations finishing will free up a slot, Longbow will then submit some of the remaining simulations to take their place by doing an update."
   ]
  },
  {
   "cell_type": "markdown",
   "metadata": {},
   "source": [
    "## Reconnecting to Running Simulations"
   ]
  },
  {
   "cell_type": "markdown",
   "metadata": {},
   "source": [
    "If you would like to reconnect Longbow to disconnected sessions, whether you have exited via the disconnect function, or if a technical issue disconnected you. Then you can reconnect in a persistent way by doing this:\n",
    "\n",
    "```\n",
    "longbow --verbose --log new.log --recover recoveryfilename\n",
    "```\n",
    "\n",
    "It is always good practice to create a new logfile if you do this, otherwise Longbow will overwrite the old one and then if anything goes wrong then you might not be able to figure out what went wrong."
   ]
  },
  {
   "cell_type": "markdown",
   "metadata": {},
   "source": [
    "## That's it!"
   ]
  },
  {
   "cell_type": "markdown",
   "metadata": {},
   "source": [
    "You have taken Longbow out for a spin. You have learned how to configure a system for Longbow use, you have seen the different kinds of simulations you can do with Longbow and tried out a subset of its more advanced features. There's tons more to learn about Longbow, and this is all covered within its documentation.\n",
    "\n",
    "If you like Longbow, and something is missing, then get in touch on github"
   ]
  }
 ],
 "metadata": {
  "kernelspec": {
   "display_name": "Python 3",
   "language": "python",
   "name": "python3"
  },
  "language_info": {
   "codemirror_mode": {
    "name": "ipython",
    "version": 3
   },
   "file_extension": ".py",
   "mimetype": "text/x-python",
   "name": "python",
   "nbconvert_exporter": "python",
   "pygments_lexer": "ipython3",
   "version": "3.6.7"
  }
 },
 "nbformat": 4,
 "nbformat_minor": 2
}
